{
 "cells": [
  {
   "metadata": {
    "ExecuteTime": {
     "end_time": "2025-04-26T20:51:02.735531Z",
     "start_time": "2025-04-26T20:51:02.728683Z"
    }
   },
   "cell_type": "code",
   "source": [
    "from langchain_voyageai import VoyageAIEmbeddings\n",
    "import os\n",
    "from dotenv import load_dotenv\n",
    "load_dotenv()"
   ],
   "id": "960f9334e41a6bc4",
   "outputs": [
    {
     "data": {
      "text/plain": [
       "True"
      ]
     },
     "execution_count": 3,
     "metadata": {},
     "output_type": "execute_result"
    }
   ],
   "execution_count": 3
  },
  {
   "metadata": {
    "ExecuteTime": {
     "end_time": "2025-04-26T20:51:13.801132Z",
     "start_time": "2025-04-26T20:51:13.797283Z"
    }
   },
   "cell_type": "code",
   "source": "model = VoyageAIEmbeddings(batch_size=6, model='voyage-3', voyage_api_key=os.getenv('VOYAGEAI_API_KEY'))",
   "id": "f2881288273cd03a",
   "outputs": [],
   "execution_count": 5
  },
  {
   "metadata": {},
   "cell_type": "code",
   "outputs": [],
   "execution_count": null,
   "source": "",
   "id": "64df40ce6abf7664"
  },
  {
   "metadata": {
    "ExecuteTime": {
     "end_time": "2025-04-26T20:53:13.433696Z",
     "start_time": "2025-04-26T20:53:12.957656Z"
    }
   },
   "cell_type": "code",
   "source": [
    "from pymilvus import (connections,\n",
    "                      Collection,\n",
    "                      FieldSchema,\n",
    "                      CollectionSchema,\n",
    "                      DataType,\n",
    "                      utility)\n",
    "\n",
    "connections.connect(\n",
    "    alias=\"default\", \n",
    "    host=\"localhost\",\n",
    "    port=\"19530\"\n",
    ")\n",
    "\n",
    "connections.disconnect(alias=\"default\")"
   ],
   "id": "d932608c583f156",
   "outputs": [],
   "execution_count": 6
  },
  {
   "metadata": {
    "ExecuteTime": {
     "end_time": "2025-04-26T20:53:45.309974Z",
     "start_time": "2025-04-26T20:53:45.305696Z"
    }
   },
   "cell_type": "code",
   "source": "connections.disconnect(alias=\"default\")",
   "id": "adeed8305b9ac855",
   "outputs": [],
   "execution_count": 7
  },
  {
   "metadata": {
    "ExecuteTime": {
     "end_time": "2025-01-27T09:51:22.185784Z",
     "start_time": "2025-01-27T09:51:22.069788Z"
    }
   },
   "cell_type": "code",
   "source": [
    "\n",
    "def create_collection(collection_name: str, data: list, dim: int):\n",
    "    connections.connect(\"default\", host=\"localhost\", port=\"19530\")\n",
    "    if utility.has_collection(collection_name):\n",
    "        utility.drop_collection(collection_name)\n",
    "\n",
    "    fields = [\n",
    "        FieldSchema(name=\"id\", dtype=DataType.INT64, is_primary=True, auto_id=True),\n",
    "        FieldSchema(name=\"embedding\", dtype=DataType.FLOAT_VECTOR, dim=dim),\n",
    "        FieldSchema(name=\"text\", dtype=DataType.VARCHAR, max_length=65535)\n",
    "    ]\n",
    "\n",
    "    schema = CollectionSchema(fields, description=\"Chunk Embeddings Collection\")\n",
    "    collection = Collection(name=collection_name, schema=schema)\n",
    "\n",
    "    index_params = {\n",
    "        \"metric_type\": \"COSINE\",\n",
    "        \"index_type\": \"IVF_FLAT\",\n",
    "        \"params\": {\"nlist\": 1024}\n",
    "    }\n",
    "\n",
    "    collection.create_index(field_name=\"embedding\", index_params=index_params)\n",
    "    collection.insert(data)\n",
    "    collection.flush()\n",
    "    collection.load()\n",
    "\n",
    "    return collection"
   ],
   "id": "3a877f492c62cf7e",
   "outputs": [],
   "execution_count": 11
  },
  {
   "metadata": {
    "ExecuteTime": {
     "end_time": "2025-01-27T09:51:29.500238Z",
     "start_time": "2025-01-27T09:51:24.582608Z"
    }
   },
   "cell_type": "code",
   "outputs": [],
   "execution_count": 12,
   "source": "voyageai_collection = create_collection(collection_name=\"voyageai_embeddings\", data=[embeddings_list, texts_list], dim=1024)",
   "id": "7e9088ca0c8115d1"
  },
  {
   "metadata": {
    "ExecuteTime": {
     "end_time": "2025-01-27T09:51:31.145084Z",
     "start_time": "2025-01-27T09:51:31.135825Z"
    }
   },
   "cell_type": "code",
   "source": [
    "from pymilvus import MilvusClient\n",
    "\n",
    "client = MilvusClient(\n",
    "    uri=\"http://localhost:19530\",\n",
    "    token=\"root:Milvus\"\n",
    ")"
   ],
   "id": "891df56f12cc85c6",
   "outputs": [],
   "execution_count": 13
  },
  {
   "metadata": {
    "ExecuteTime": {
     "end_time": "2025-01-27T09:54:41.033134Z",
     "start_time": "2025-01-27T09:54:41.006847Z"
    }
   },
   "cell_type": "code",
   "source": [
    "res = client.search(\n",
    "    collection_name='voyageai_embeddings',\n",
    "    data=[frontend_rfp_old_vectorized],\n",
    "    anns_field='embedding',\n",
    "    search_params={'metric_type': 'COSINE', \"params\": {\"nprobe\": 16}},\n",
    "    limit=10,\n",
    "    output_fields=['text']\n",
    ")\n",
    "\n",
    "hit_dict = {}\n",
    "for hits in res:\n",
    "    for hit in hits:\n",
    "        print(hit['id'], hit['distance'], hit['entity']['text'][:18])\n",
    "        hit_dict[hit['id']] = [hit['distance'], hit['entity']['text'][:18]]"
   ],
   "id": "14bbb96b468deed5",
   "outputs": [
    {
     "name": "stdout",
     "output_type": "stream",
     "text": [
      "455598750312170385 1.0 Key expert 2 - Con\n",
      "455598750312170384 0.9105420112609863 Key expert 2 - Con\n",
      "455598750312170390 0.8708397746086121 Key expert 3 - Con\n",
      "455598750312170389 0.6366385817527771 FRONTEND DEVELOPER\n",
      "455598750312170388 0.5711808204650879 FRONTEND DEVELOPER\n",
      "455598750312170387 0.5515117645263672 BACKEND DEVELOPER \n",
      "455598750312170386 0.5263214707374573 BACKEND DEVELOPER\n",
      "\n"
     ]
    }
   ],
   "execution_count": 18
  }
 ],
 "metadata": {
  "kernelspec": {
   "display_name": "Python 3",
   "language": "python",
   "name": "python3"
  },
  "language_info": {
   "codemirror_mode": {
    "name": "ipython",
    "version": 2
   },
   "file_extension": ".py",
   "mimetype": "text/x-python",
   "name": "python",
   "nbconvert_exporter": "python",
   "pygments_lexer": "ipython2",
   "version": "2.7.6"
  }
 },
 "nbformat": 4,
 "nbformat_minor": 5
}
