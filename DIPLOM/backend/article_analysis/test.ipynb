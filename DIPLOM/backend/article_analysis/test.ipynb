{
 "cells": [
  {
   "cell_type": "code",
   "id": "initial_id",
   "metadata": {
    "collapsed": true,
    "ExecuteTime": {
     "end_time": "2025-05-01T19:37:29.988363Z",
     "start_time": "2025-05-01T19:37:29.366331Z"
    }
   },
   "source": [
    "from time import timezone\n",
    "\n",
    "import openai\n",
    "import os\n",
    "from typing import List\n",
    "from dotenv import load_dotenv\n",
    "from sqlalchemy import create_engine\n",
    "from sqlalchemy.orm import sessionmaker\n",
    "\n",
    "from postgres_db.models.Article import Article"
   ],
   "outputs": [],
   "execution_count": 3
  },
  {
   "metadata": {
    "ExecuteTime": {
     "end_time": "2025-05-01T19:37:30.676158Z",
     "start_time": "2025-05-01T19:37:30.609438Z"
    }
   },
   "cell_type": "code",
   "source": [
    "load_dotenv()\n",
    "engine = create_engine(os.getenv(\"DATABASE_URL\"))"
   ],
   "id": "43a37815daddbb9e",
   "outputs": [],
   "execution_count": 4
  },
  {
   "metadata": {
    "ExecuteTime": {
     "end_time": "2025-05-03T14:07:54.496457Z",
     "start_time": "2025-05-03T14:07:37.913302Z"
    }
   },
   "cell_type": "code",
   "source": [
    "import json\n",
    "import requests\n",
    "from bs4 import BeautifulSoup\n",
    "from datetime import datetime, timezone, timedelta\n",
    "import dateutil.parser\n",
    "\n",
    "scraping_delay = 100000\n",
    "pages = ['https://www.stopfake.org/uk/category/context-ua/', 'https://www.stopfake.org/uk/category/context-ua/page/2/', 'https://www.stopfake.org/uk/category/context-ua/page/3/',\n",
    "         'https://www.stopfake.org/uk/category/context-ua/page/4/', 'https://www.stopfake.org/uk/category/context-ua/page/5/', 'https://www.stopfake.org/uk/category/context-ua/page/6/']\n",
    "article_data = []\n",
    "for page_url in pages:\n",
    "    page = requests.get(page_url)\n",
    "    soup = BeautifulSoup(page.content, \"html.parser\")\n",
    "    feed_list = soup.find(\"div\", class_='td-ss-main-content')\n",
    "    articles = feed_list.find_all(\"div\", class_='td_module_10 td_module_wrap td-animation-stack')\n",
    "    for article in articles:\n",
    "        href = article.find('a')['href']\n",
    "        timestamp = article.find('time', class_='entry-date updated td-module-date')['datetime']\n",
    "        article_page = requests.get(href)\n",
    "        soup = BeautifulSoup(article_page.content, \"html.parser\")\n",
    "        title_tag = soup.find('h1', class_='entry-title')\n",
    "        title = title_tag.get_text().replace('\\xa0', ' ').strip()\n",
    "        paragraphs_list = []\n",
    "        paragraph_content = soup.find('div', class_='td-post-content tagdiv-type')\n",
    "        paragraphs = paragraph_content.find_all('p')\n",
    "        sources = []\n",
    "        for paragraph in paragraphs:\n",
    "            text = paragraph.get_text()\n",
    "            text = text.replace(' ', ' ')\n",
    "            text = text.replace('\\xa0', ' ')\n",
    "            paragraphs_list.append(text)\n",
    "            links = paragraph.find_all('a')\n",
    "            for link in links:\n",
    "                source_url = link['href']\n",
    "                if source_url:\n",
    "                    sources.append(source_url)\n",
    "        if href is not None and timestamp is not None and title is not None and paragraphs_list is not None and sources is not None:\n",
    "            article_time = dateutil.parser.isoparse(timestamp)\n",
    "            current_time = datetime.now(timezone.utc)\n",
    "            one_hour_ago = current_time - timedelta(hours=scraping_delay)\n",
    "            if article_time >= one_hour_ago:\n",
    "                article_data.append({\n",
    "                    'outlet': 'stopfake',\n",
    "                    'href': href,\n",
    "                    'timestamp': timestamp,\n",
    "                    'title': title,\n",
    "                    'paragraphs': paragraphs_list,\n",
    "                    'sources': sources\n",
    "                })\n",
    "            else:\n",
    "                break\n"
   ],
   "id": "afd458ccb9e8afcc",
   "outputs": [],
   "execution_count": 21
  },
  {
   "metadata": {
    "ExecuteTime": {
     "end_time": "2025-05-03T14:07:54.506741Z",
     "start_time": "2025-05-03T14:07:54.503480Z"
    }
   },
   "cell_type": "code",
   "source": "len(article_data)",
   "id": "a9c61bac9c67c610",
   "outputs": [
    {
     "data": {
      "text/plain": [
       "60"
      ]
     },
     "execution_count": 22,
     "metadata": {},
     "output_type": "execute_result"
    }
   ],
   "execution_count": 22
  },
  {
   "metadata": {
    "ExecuteTime": {
     "end_time": "2025-05-03T14:55:17.093705Z",
     "start_time": "2025-05-03T14:55:17.085752Z"
    }
   },
   "cell_type": "code",
   "source": [
    "system_instruction = '''\n",
    "Ти - асистент з агрегації новин незалежних організацій факт-чекерів.\n",
    "Твоя задача - це розглянути статтю і надати їй категорію. \n",
    "Список категорій поки що формується, тому для кожної статті знайди центральну тему і опиши 1-2 словами.\n",
    "Статті, які ти описуєш - це статті з викривання фейків, які були створені за час російскього вторгення в Україну починаючи з 2022р.\n",
    "Тобі потрібно категоризувати сам фейк, тобто суб'єкт дезинформації. Наприклад, якщо в статті йдеться про фейк про російський ракетний удар по цивільному об'єкту, де \n",
    "фейк - це те, що в цивільному об'єкті насправді були військові,  о  \n",
    "Ти маєш відповісти тільки категорією, і нічим більше. \n",
    "'''"
   ],
   "id": "ea26404e445a7ffe",
   "outputs": [],
   "execution_count": 50
  },
  {
   "metadata": {
    "ExecuteTime": {
     "end_time": "2025-05-03T14:55:18.386391Z",
     "start_time": "2025-05-03T14:55:18.380644Z"
    }
   },
   "cell_type": "code",
   "source": [
    "from pydantic import BaseModel\n",
    "\n",
    "class FindCategorySchema(BaseModel):\n",
    "    category: str"
   ],
   "id": "c117cdafeb3b748f",
   "outputs": [],
   "execution_count": 51
  },
  {
   "metadata": {
    "ExecuteTime": {
     "end_time": "2025-05-03T14:55:21.094480Z",
     "start_time": "2025-05-03T14:55:20.093143Z"
    }
   },
   "cell_type": "code",
   "source": [
    "import openai\n",
    "\n",
    "client = openai.OpenAI(api_key=os.getenv(\"OPENAI_API_KEY\"))\n",
    "\n",
    "assistant = client.beta.assistants.create(\n",
    "        model='gpt-4.1-mini',\n",
    "        instructions=system_instruction,\n",
    "        temperature=0.3,\n",
    "        response_format={\n",
    "            'type': 'json_schema',\n",
    "            'json_schema':\n",
    "                {\n",
    "                    'name': 'MetricSchema',\n",
    "                    'schema': FindCategorySchema.model_json_schema()\n",
    "                }\n",
    "        }\n",
    "    )"
   ],
   "id": "a4835ce28892d5c9",
   "outputs": [],
   "execution_count": 52
  },
  {
   "metadata": {
    "ExecuteTime": {
     "end_time": "2025-05-03T15:02:29.716572Z",
     "start_time": "2025-05-03T14:55:31.944876Z"
    }
   },
   "cell_type": "code",
   "source": [
    "categories = []\n",
    "for article in article_data:    \n",
    "    thread = client.beta.threads.create(\n",
    "        messages=[\n",
    "            {\n",
    "                \"role\": \"user\",\n",
    "                \"content\": json.dumps(article),\n",
    "            }\n",
    "        ]\n",
    "    )\n",
    "\n",
    "    with client.beta.threads.runs.stream(\n",
    "            thread_id=thread.id,\n",
    "            assistant_id=assistant.id,\n",
    "    ) as stream:\n",
    "        stream.until_done()\n",
    "\n",
    "    messages = client.beta.threads.messages.list(thread_id=thread.id)\n",
    "    result = messages.data[0].content[0].text.value\n",
    "    result = json.loads(result)\n",
    "    categories.append(result['category'])\n",
    "    client.beta.threads.delete(thread_id=thread.id)\n"
   ],
   "id": "a51c903b9829f759",
   "outputs": [],
   "execution_count": 53
  },
  {
   "metadata": {
    "ExecuteTime": {
     "end_time": "2025-05-03T15:02:29.741423Z",
     "start_time": "2025-05-03T15:02:29.734685Z"
    }
   },
   "cell_type": "code",
   "source": "",
   "id": "1b0122b7d7762495",
   "outputs": [
    {
     "data": {
      "text/plain": [
       "['дезінформація про міжнародні відносини та політику',\n",
       " 'маніпуляція щодо символіки та історії Дня Європи',\n",
       " 'оманливі заяви про туристичний потік у Росії',\n",
       " 'оманливі заяви про звільнення військових',\n",
       " 'створення недовіри до біженців',\n",
       " 'оманливе виправдання ракетного удару',\n",
       " 'маніпуляції щодо мирних ініціатив Трампа',\n",
       " 'маніпуляції з релігією та церквою',\n",
       " 'оманливе виправдання атак на цивільні судна',\n",
       " 'оманливе виправдання економічних витрат ЄС на Україну',\n",
       " 'маніпуляції з міжнародним правом для виправдання агресії',\n",
       " 'російська пропаганда та дезінформація',\n",
       " 'маніпуляція інформацією про умови життя в Європі',\n",
       " 'російська пропаганда у США',\n",
       " 'маніпуляції з жертвами серед дітей',\n",
       " 'маніпуляція громадською думкою',\n",
       " \"оманливе виправдання атаки по цивільному об'єкту\",\n",
       " 'пропаганда Кремля',\n",
       " 'легітимізація російської влади в Україні',\n",
       " 'оманливе виправдання вбивства журналістів',\n",
       " 'дискредитація українських військових і влади',\n",
       " 'російська пропаганда та дезінформація',\n",
       " 'оманливе заперечення ракетного удару',\n",
       " 'маніпуляції з обміном полоненими',\n",
       " 'маніпуляція результатами референдумів',\n",
       " 'дезінформація про війну та військові операції',\n",
       " 'оманливе формування образу українських диверсантів',\n",
       " 'дезінформація про війну та військові операції',\n",
       " 'маніпуляція громадською думкою через фейкові опитування',\n",
       " 'оманливе виправдання початку війни',\n",
       " 'російська дезінформація про медіа і штучний інтелект',\n",
       " 'маніпуляції щодо Криму та війни',\n",
       " 'маніпуляції щодо військових дій та підтримки України',\n",
       " 'дезінформація про трансгендерних людей',\n",
       " 'дезінформація про політичних лідерів',\n",
       " 'оманливе виправдання протестів Євромайдану',\n",
       " 'маніпуляція втратами ЗСУ',\n",
       " 'підтримка російської пропаганди',\n",
       " 'дезінформація про військові операції та кібербезпеку',\n",
       " 'дезінформація про політичних опонентів',\n",
       " 'пропаганда та маніпуляції',\n",
       " 'маніпуляція економічною допомогою Україні',\n",
       " 'формування дитячої адміністрації в Криму',\n",
       " 'дезінформація про перевірку RT у США',\n",
       " 'маніпуляція геополітичним впливом',\n",
       " 'маніпуляції щодо військових дій і політичної ситуації',\n",
       " 'маніпуляція втратами ЗСУ',\n",
       " 'дезінформація про хід війни',\n",
       " 'маніпуляція інформацією про постачання зброї',\n",
       " 'маніпуляції з рейтингом Зеленського',\n",
       " 'пропаганда та дезінформація',\n",
       " 'маніпуляції та дезінформація про війну',\n",
       " 'спростування фейків про військову допомогу США Україні',\n",
       " 'дезінформація про втрати та стан військових',\n",
       " 'маніпуляція фактчекінгом',\n",
       " 'дискредитація російської пропаганди',\n",
       " 'маніпуляції з базами даних соціального забезпечення',\n",
       " 'радянізація окупованих територій',\n",
       " 'маніпуляція довірою до ЗМІ',\n",
       " 'дезінформація про війну та політичних діячів']"
      ]
     },
     "execution_count": 54,
     "metadata": {},
     "output_type": "execute_result"
    }
   ],
   "execution_count": 54
  }
 ],
 "metadata": {
  "kernelspec": {
   "display_name": "Python 3",
   "language": "python",
   "name": "python3"
  },
  "language_info": {
   "codemirror_mode": {
    "name": "ipython",
    "version": 2
   },
   "file_extension": ".py",
   "mimetype": "text/x-python",
   "name": "python",
   "nbconvert_exporter": "python",
   "pygments_lexer": "ipython2",
   "version": "2.7.6"
  }
 },
 "nbformat": 4,
 "nbformat_minor": 5
}
