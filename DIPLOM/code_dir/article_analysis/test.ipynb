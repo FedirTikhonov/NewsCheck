{
 "cells": [
  {
   "cell_type": "code",
   "id": "initial_id",
   "metadata": {
    "collapsed": true,
    "ExecuteTime": {
     "end_time": "2025-05-01T19:37:29.988363Z",
     "start_time": "2025-05-01T19:37:29.366331Z"
    }
   },
   "source": [
    "from time import timezone\n",
    "\n",
    "import openai\n",
    "import os\n",
    "from typing import List\n",
    "from dotenv import load_dotenv\n",
    "from sqlalchemy import create_engine\n",
    "from sqlalchemy.orm import sessionmaker\n",
    "\n",
    "from postgres_db.models.Article import Article"
   ],
   "outputs": [],
   "execution_count": 3
  },
  {
   "metadata": {
    "ExecuteTime": {
     "end_time": "2025-05-01T19:37:30.676158Z",
     "start_time": "2025-05-01T19:37:30.609438Z"
    }
   },
   "cell_type": "code",
   "source": [
    "load_dotenv()\n",
    "engine = create_engine(os.getenv(\"DATABASE_URL\"))"
   ],
   "id": "43a37815daddbb9e",
   "outputs": [],
   "execution_count": 4
  },
  {
   "metadata": {
    "ExecuteTime": {
     "end_time": "2025-05-01T19:37:24.899397Z",
     "start_time": "2025-05-01T19:37:23.688174Z"
    }
   },
   "cell_type": "code",
   "source": [
    "from DIPLOM.code_dir.article_analysis.article_scraping.scraping import scrape_hromadske\n",
    "\n",
    "news = scrape_hromadske()"
   ],
   "id": "9b0a939e906dd19d",
   "outputs": [],
   "execution_count": 1
  },
  {
   "metadata": {
    "ExecuteTime": {
     "end_time": "2025-05-01T19:37:31.997778Z",
     "start_time": "2025-05-01T19:37:31.990680Z"
    }
   },
   "cell_type": "code",
   "source": "news[0]",
   "id": "48cf0363b206a64d",
   "outputs": [
    {
     "data": {
      "text/plain": [
       "{'outlet': 'hromadske',\n",
       " 'href': 'https://hromadske.ua/polityka/244063-zelenskyy-pidpysana-uhoda-pro-nadra-ye-pershym-rezultatom-zustrichi-z-trampom-u-vatykani-chekayemo-na-inshi',\n",
       " 'timestamp': '2025-05-01T22:29:00+03:00',\n",
       " 'title': 'Зеленський: Підписана угода про надра є першим результатом зустрічі з Трампом у Ватикані, чекаємо на інші',\n",
       " 'paragraphs': ['Президент України Володимир Зеленський заявив, що підписання угоди щодо економічного партнерства з Вашингтоном стало першим результатом «ватиканської зустрічі» з президентом США Дональдом Трампом. Глава держави чекає на «інші результати» розмови.',\n",
       "  'Про це Зеленський розповів у вечірньому зверненні 1 травня.',\n",
       "  'Зеленський зазначив, що тепер підписану угоду спрямують на ратифікацію у Верховну Раду, зауваживши, що Україна зацікавлена в тому, щоб не було «жодних затягувань».',\n",
       "  'За словами президента, угода «значно змінилась» у процесі підготовки й тепер «справді є рівноправною» та створює можливості для «доволі вагомих» інвестицій в Україну. Зеленський також наголосив, що в угоді немає боргу.',\n",
       "  '«Ми говорили з президентом Сполучених Штатів Дональдом Трампом про нашу готовність до укладення угоди — говорили на зустрічі у Ватикані. Фактично зараз ми маємо перший результат ватиканської зустрічі, який робить її дійсно історичною», — розповів Зеленський.',\n",
       "  'Він додав, що «дуже чекає» й на інші результати розмови з Трампом у Ватикані, яка, за його словами, «вийшла змістовною».',\n",
       "  '«Кожну хвилину часу ми з президентом Трампом використали на сто відсотків», — пояснив Зеленський.',\n",
       "  'Нагадаємо, 26 квітня, перед початком похорону Папи Римського Франциска, президент США Дональд Трамп провів зустріч із президентом України Володимиром Зеленським. Зустріч тривала лише 15 хвилин, але Зеленський зазначав, що сторони «встигли обговорити багато».',\n",
       "  'Міністерка економіки України Юлія Свириденко та міністр фінансів США Скотт Бессент 30 квітня підписали угоду між двома країнами \\u200b\\u200bпро створення Інвестиційного фонду відбудови. У медіа вона стала відома як угода про надра, чи «мінеральна угода», оскільки стосується видобутку корисних копалин на території України. На сайті Кабінету Міністрів опублікували її текст.',\n",
       "  'Як зауважував прем’єр-міністр Денис Шмигаль, в основі документа — п’ять ключових принципів:',\n",
       "  'Більше про вміст угоди й те, які наслідки від неї отримає Україна — читайте в нашому матеріалі.'],\n",
       " 'sources': ['https://www.president.gov.ua/news/mayemo-pershij-rezultat-vatikanskoyi-zustrichi-yakij-robit-y-97493',\n",
       "  'https://hromadske.ua/svit/243764-zelenskyy-zustrivsia-iz-trampom-u-vatykani-u-bilomu-domi-nazvaly-yiyi-produktyvnoiu',\n",
       "  'https://hromadske.ua/polityka/244014-ukrayina-i-ssha-uklaly-uhodu-pro-nadra-bloomberg',\n",
       "  'https://hromadske.ua/heopolityka/244032-kabinet-ministriv-opublikuvav-tekst-uhody-pidpysanoyi-zi-ssha',\n",
       "  'https://hromadske.ua/ekonomika/244045-unikalnyy-dokument-chy-vyhidna-dlia-ukrayiny-mineralna-uhoda-zi-ssha']}"
      ]
     },
     "execution_count": 5,
     "metadata": {},
     "output_type": "execute_result"
    }
   ],
   "execution_count": 5
  },
  {
   "metadata": {
    "ExecuteTime": {
     "end_time": "2025-05-01T19:37:35.885746Z",
     "start_time": "2025-05-01T19:37:35.748829Z"
    }
   },
   "cell_type": "code",
   "source": [
    "from sqlalchemy import create_engine\n",
    "from sqlalchemy.orm import sessionmaker\n",
    "from datetime import datetime\n",
    "\n",
    "from postgres_db.models import Article, Category, FactcheckCategory, Base\n",
    "\n",
    "Session = sessionmaker(bind=engine)\n",
    "session = Session()\n",
    "\n",
    "def create_article(news_data):\n",
    "    article = Article(\n",
    "        title=news_data['title'],\n",
    "        href=news_data['href'],\n",
    "        outlet=news_data['outlet'],\n",
    "        published_at=news_data['timestamp'],\n",
    "        created_at=news_data['timestamp'],\n",
    "        status='Processing',\n",
    "    )\n",
    "    \n",
    "    for i, paragraph_text in enumerate(news_data['paragraphs']):\n",
    "        article.add_paragraph(paragraph_text, i+1)\n",
    "    \n",
    "    for i, source_href in enumerate(news_data['sources']):\n",
    "        article.add_source(source_href, i+1)\n",
    "    \n",
    "    if 'metrics' in news_data:\n",
    "        article.add_metric(news_data['metrics'])\n",
    "    \n",
    "    session.add(article)\n",
    "    session.commit()\n",
    "    \n",
    "    return article\n",
    "\n",
    "def add_category_to_article(article_id, category_name, category_description=None):\n",
    "    category = session.query(Category).filter_by(name=category_name).first()\n",
    "    if not category:\n",
    "        category = Category(name=category_name, description=category_description or '')\n",
    "        session.add(category)\n",
    "        session.commit()\n",
    "    \n",
    "    # Get the article\n",
    "    article = session.query(Article).get(article_id)\n",
    "    if not article:\n",
    "        raise ValueError(f\"Article with ID {article_id} not found\")\n",
    "    \n",
    "    # Create the association\n",
    "    factcheck_category = FactcheckCategory(category_id=category.id, article_id=article.id)\n",
    "    session.add(factcheck_category)\n",
    "    session.commit()\n",
    "    \n",
    "    return factcheck_category\n",
    "\n",
    "# Run the example\n",
    "if __name__ == '__main__':\n",
    "    # Create tables if they don't exist\n",
    "    Base.metadata.create_all(engine)\n",
    "    \n",
    "    # Create an article\n",
    "    article = create_article(news[0])\n",
    "    print(f\"Created article with ID: {article.id}\")\n"
   ],
   "id": "b67f6c00e2c4a3d",
   "outputs": [
    {
     "name": "stdout",
     "output_type": "stream",
     "text": [
      "Created article with ID: 1\n"
     ]
    }
   ],
   "execution_count": 6
  },
  {
   "metadata": {
    "ExecuteTime": {
     "end_time": "2025-05-02T07:21:07.976995Z",
     "start_time": "2025-05-02T07:21:07.967008Z"
    }
   },
   "cell_type": "code",
   "source": [
    "import datetime\n",
    "datetime.datetime.now(datetime.timezone.utc).isoformat(timespec='seconds')"
   ],
   "id": "619867885c19ef5c",
   "outputs": [
    {
     "data": {
      "text/plain": [
       "'2025-05-02T07:21:07+00:00'"
      ]
     },
     "execution_count": 12,
     "metadata": {},
     "output_type": "execute_result"
    }
   ],
   "execution_count": 12
  }
 ],
 "metadata": {
  "kernelspec": {
   "display_name": "Python 3",
   "language": "python",
   "name": "python3"
  },
  "language_info": {
   "codemirror_mode": {
    "name": "ipython",
    "version": 2
   },
   "file_extension": ".py",
   "mimetype": "text/x-python",
   "name": "python",
   "nbconvert_exporter": "python",
   "pygments_lexer": "ipython2",
   "version": "2.7.6"
  }
 },
 "nbformat": 4,
 "nbformat_minor": 5
}
