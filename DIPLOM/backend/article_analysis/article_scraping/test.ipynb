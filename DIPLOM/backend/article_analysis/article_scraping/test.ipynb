{
 "cells": [
  {
   "cell_type": "code",
   "id": "initial_id",
   "metadata": {
    "collapsed": true,
    "ExecuteTime": {
     "end_time": "2025-05-26T18:19:41.287656Z",
     "start_time": "2025-05-26T18:19:41.238740Z"
    }
   },
   "source": [
    "import requests\n",
    "from bs4 import BeautifulSoup"
   ],
   "outputs": [],
   "execution_count": 5
  },
  {
   "metadata": {
    "ExecuteTime": {
     "end_time": "2025-05-26T18:18:55.211505Z",
     "start_time": "2025-05-26T18:18:55.010747Z"
    }
   },
   "cell_type": "code",
   "source": "page = requests.get('https://www.stopfake.org/uk/category/novyny-ua/')",
   "id": "84ecaadbcd66df37",
   "outputs": [],
   "execution_count": 3
  },
  {
   "metadata": {
    "ExecuteTime": {
     "end_time": "2025-05-26T18:20:30.472545Z",
     "start_time": "2025-05-26T18:20:30.275850Z"
    }
   },
   "cell_type": "code",
   "source": [
    "page = requests.get('https://www.stopfake.org/uk/category/novyny-ua/')\n",
    "print('x')\n",
    "soup = BeautifulSoup(page.content, \"html.parser\")\n",
    "feed_list = soup.find(\"div\", class_='td-ss-main-content')\n",
    "articles = feed_list.find_all(\"div\", class_='td_module_10 td_module_wrap td-animation-stack')"
   ],
   "id": "6184e8c93ae694c2",
   "outputs": [
    {
     "name": "stdout",
     "output_type": "stream",
     "text": [
      "x\n"
     ]
    }
   ],
   "execution_count": 9
  },
  {
   "metadata": {
    "ExecuteTime": {
     "end_time": "2025-05-26T18:20:55.628213Z",
     "start_time": "2025-05-26T18:20:55.624895Z"
    }
   },
   "cell_type": "code",
   "source": "articles[0]",
   "id": "8b98febbf2a03f23",
   "outputs": [
    {
     "data": {
      "text/plain": [
       "<div class=\"td_module_10 td_module_wrap td-animation-stack\">\n",
       "<div class=\"td-module-thumb\"><a class=\"td-image-wrap\" href=\"https://www.stopfake.org/uk/fejk-ukrayinski-vijskovi-zastrelili-cholovika-za-vidmovu-skazati-slava-ukrayini/\" rel=\"bookmark\" title=\"Фейк: Українські військові застрелили чоловіка за відмову сказати «слава Україні»\"><img alt=\"\" class=\"entry-thumb\" data-img-url=\"https://www.stopfake.org/content/uploads/2025/05/Baneri-dlya-sajtu-1068681-9-2-218x150.png\" data-type=\"image_tag\" height=\"150\" src=\"data:image/png;base64,iVBORw0KGgoAAAANSUhEUgAAANoAAACWAQMAAACCSQSPAAAAA1BMVEWurq51dlI4AAAAAXRSTlMmkutdmwAAABpJREFUWMPtwQENAAAAwiD7p7bHBwwAAAAg7RD+AAGXD7BoAAAAAElFTkSuQmCC\" title=\"Фейк: Українські військові застрелили чоловіка за відмову сказати «слава Україні»\" width=\"218\"/></a></div>\n",
       "<div class=\"item-details\">\n",
       "<h3 class=\"entry-title td-module-title\"><a href=\"https://www.stopfake.org/uk/fejk-ukrayinski-vijskovi-zastrelili-cholovika-za-vidmovu-skazati-slava-ukrayini/\" rel=\"bookmark\" title=\"Фейк: Українські військові застрелили чоловіка за відмову сказати «слава Україні»\">Фейк: Українські військові застрелили чоловіка за відмову сказати «слава Україні»</a></h3>\n",
       "<div class=\"td-module-meta-info\">\n",
       "<span class=\"td-post-date\"><time class=\"entry-date updated td-module-date\" datetime=\"2025-05-25T12:08:09+02:00\">25 Травня, 2025</time></span> </div>\n",
       "<div class=\"td-excerpt\">\n",
       "                    \n",
       "Це відео — постановка. Його опублікував акаунт, який регулярно поширює інсценізовані кадри з елементами ШІ для дискредитації ЗСУ. \n",
       "\n",
       "\n",
       "\n",
       "У російському сегменті соцмереж поширюється відео, на...                </div>\n",
       "</div>\n",
       "</div>"
      ]
     },
     "execution_count": 11,
     "metadata": {},
     "output_type": "execute_result"
    }
   ],
   "execution_count": 11
  }
 ],
 "metadata": {
  "kernelspec": {
   "display_name": "Python 3",
   "language": "python",
   "name": "python3"
  },
  "language_info": {
   "codemirror_mode": {
    "name": "ipython",
    "version": 2
   },
   "file_extension": ".py",
   "mimetype": "text/x-python",
   "name": "python",
   "nbconvert_exporter": "python",
   "pygments_lexer": "ipython2",
   "version": "2.7.6"
  }
 },
 "nbformat": 4,
 "nbformat_minor": 5
}
